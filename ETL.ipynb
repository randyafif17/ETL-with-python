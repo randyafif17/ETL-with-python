{
 "cells": [
  {
   "cell_type": "code",
   "execution_count": 1,
   "metadata": {},
   "outputs": [
    {
     "name": "stderr",
     "output_type": "stream",
     "text": [
      "C:\\Users\\randy\\AppData\\Local\\Temp\\ipykernel_17024\\2138826020.py:24: UserWarning: pandas only supports SQLAlchemy connectable (engine/connection) or database string URI or sqlite3 DBAPI2 connection. Other DBAPI2 objects are not tested. Please consider using SQLAlchemy.\n",
      "  mysql_data = pd.read_sql(query, db_connection)\n"
     ]
    }
   ],
   "source": [
    "import json\n",
    "import pandas as pd\n",
    "import mysql.connector\n",
    "\n",
    "# Extract from JSON\n",
    "with open('generated_data.json', 'r') as file:\n",
    "    json_data = json.load(file)\n",
    "\n",
    "# Extract from MySQL\n",
    "# Update these parameters with your MySQL database details\n",
    "db_connection = mysql.connector.connect(\n",
    "    host=\"localhost\",\n",
    "    user=\"root\",\n",
    "    passwd=\"YOURPASSWORD\",\n",
    "    database=\"new\"\n",
    ")\n",
    "\n",
    "    # \"host\": \"localhost\",\n",
    "    # \"user\": \"root\",\n",
    "    # \"passwd\": \"YOURPASSWORD\",\n",
    "    # \"database\": \"new\"\n",
    "\n",
    "query = \"SELECT * FROM tables\"\n",
    "mysql_data = pd.read_sql(query, db_connection)\n",
    "db_connection.close()\n",
    "\n",
    "# Extract from CSV\n",
    "csv_data = pd.read_csv('data_source.csv')\n"
   ]
  },
  {
   "cell_type": "code",
   "execution_count": 2,
   "metadata": {},
   "outputs": [],
   "source": [
    "# Example transformation: Convert all data to a common format (like a DataFrame)\n",
    "\n",
    "# Assuming JSON data is a list of dicts\n",
    "json_df = pd.DataFrame(json_data)\n",
    "\n",
    "# Transform MySQL and CSV data if needed (they are already DataFrames)\n"
   ]
  },
  {
   "cell_type": "code",
   "execution_count": 8,
   "metadata": {},
   "outputs": [],
   "source": [
    "from sqlalchemy import create_engine"
   ]
  },
  {
   "cell_type": "code",
   "execution_count": 17,
   "metadata": {},
   "outputs": [
    {
     "ename": "NameError",
     "evalue": "name 'df_combined' is not defined",
     "output_type": "error",
     "traceback": [
      "\u001b[1;31m---------------------------------------------------------------------------\u001b[0m",
      "\u001b[1;31mNameError\u001b[0m                                 Traceback (most recent call last)",
      "\u001b[1;32mc:\\Users\\randy\\Documents\\Data Academy Cybertrend\\Working\\Data Cleansing\\ETL-with-python\\ETL_with_Python\\ETL.ipynb Cell 4\u001b[0m line \u001b[0;36m2\n\u001b[0;32m     <a href='vscode-notebook-cell:/c%3A/Users/randy/Documents/Data%20Academy%20Cybertrend/Working/Data%20Cleansing/ETL-with-python/ETL_with_Python/ETL.ipynb#W2sZmlsZQ%3D%3D?line=23'>24</a>\u001b[0m     dataframe\u001b[39m.\u001b[39mto_sql(table_name, engine, if_exists\u001b[39m=\u001b[39m\u001b[39m'\u001b[39m\u001b[39mreplace\u001b[39m\u001b[39m'\u001b[39m, index\u001b[39m=\u001b[39m\u001b[39mFalse\u001b[39;00m)\n\u001b[0;32m     <a href='vscode-notebook-cell:/c%3A/Users/randy/Documents/Data%20Academy%20Cybertrend/Working/Data%20Cleansing/ETL-with-python/ETL_with_Python/ETL.ipynb#W2sZmlsZQ%3D%3D?line=24'>25</a>\u001b[0m     \u001b[39m# Load the DataFrame to the MySQL table\u001b[39;00m\n\u001b[1;32m---> <a href='vscode-notebook-cell:/c%3A/Users/randy/Documents/Data%20Academy%20Cybertrend/Working/Data%20Cleansing/ETL-with-python/ETL_with_Python/ETL.ipynb#W2sZmlsZQ%3D%3D?line=26'>27</a>\u001b[0m load_to_mysql(df_combined, \u001b[39m'\u001b[39m\u001b[39mtables\u001b[39m\u001b[39m'\u001b[39m, db_params)\n",
      "\u001b[1;31mNameError\u001b[0m: name 'df_combined' is not defined"
     ]
    }
   ],
   "source": [
    "# Combine all dataframes\n",
    "combined_data = pd.concat([json_df, mysql_data, csv_data])\n",
    "\n",
    "# Write to a new CSV file\n",
    "combined_data.to_csv('C:/Users/randy/Documents/Data Academy Cybertrend/Working/Data Cleansing/ETL-with-python/ETL_with_Python/output_data.csv', index=False)\n",
    "\n",
    "# Create a connection string\n",
    "db_url = f\"mysql+pymysql://{db_params['user']}:{db_params['password']}@{db_params['host']}/{db_params['database']}\"\n",
    "\n",
    "    # Create a SQLAlchemy engine\n",
    "engine = create_engine(db_url)\n",
    "\n",
    "\n",
    "db_params = {\n",
    "    \"host\": \"localhost\",\n",
    "    \"user\": \"root\",\n",
    "    \"password\": \"YOURPASSWORD\",\n",
    "    \"database\": \"new\"\n",
    "}\n",
    "\n",
    "def load_to_mysql(dataframe, table_name, db_params):\n",
    "    engine_str = f\"mysql+pymysql://{db_params['user']}:{db_params['password']}@{db_params['host']}/{db_params['database']}\"\n",
    "    engine = create_engine(engine_str)\n",
    "    dataframe.to_sql(table_name, engine, if_exists='replace', index=False)\n",
    "    # Load the DataFrame to the MySQL table\n",
    "\n",
    "df_combined = pd.concat([df_mysql, df_fake], ignore_index=True)\n",
    "    \n",
    "    # Reorder the columns to have 'id' first\n",
    "df_combined = df_combined[['id', 'name', 'email', 'address', 'purchase_amount', 'purchase_date']]\n",
    "\n",
    "load_to_mysql(df_combined, 'tables', db_params)\n"
   ]
  },
  {
   "cell_type": "code",
   "execution_count": null,
   "metadata": {},
   "outputs": [],
   "source": []
  }
 ],
 "metadata": {
  "kernelspec": {
   "display_name": "ai",
   "language": "python",
   "name": "python3"
  },
  "language_info": {
   "codemirror_mode": {
    "name": "ipython",
    "version": 3
   },
   "file_extension": ".py",
   "mimetype": "text/x-python",
   "name": "python",
   "nbconvert_exporter": "python",
   "pygments_lexer": "ipython3",
   "version": "3.11.3"
  }
 },
 "nbformat": 4,
 "nbformat_minor": 2
}
