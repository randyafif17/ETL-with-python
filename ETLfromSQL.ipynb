{
 "cells": [
  {
   "cell_type": "code",
   "execution_count": 16,
   "metadata": {},
   "outputs": [
    {
     "name": "stdout",
     "output_type": "stream",
     "text": [
      "Requirement already satisfied: mysql-connector-python in c:\\users\\randy\\anaconda3\\envs\\ai\\lib\\site-packages (8.2.0)\n",
      "Requirement already satisfied: protobuf<=4.21.12,>=4.21.1 in c:\\users\\randy\\anaconda3\\envs\\ai\\lib\\site-packages (from mysql-connector-python) (4.21.12)\n",
      "Collecting datetime\n",
      "  Downloading DateTime-5.2-py3-none-any.whl (52 kB)\n",
      "     ---------------------------------------- 0.0/52.2 kB ? eta -:--:--\n",
      "     ---------------------------------------- 52.2/52.2 kB 2.6 MB/s eta 0:00:00\n",
      "Collecting zope.interface\n",
      "  Downloading zope.interface-6.1-cp311-cp311-win_amd64.whl (204 kB)\n",
      "     ---------------------------------------- 0.0/204.2 kB ? eta -:--:--\n",
      "     ----------- --------------------------- 61.4/204.2 kB 3.2 MB/s eta 0:00:01\n",
      "     ------------------- ------------------ 102.4/204.2 kB 1.5 MB/s eta 0:00:01\n",
      "     -------------------------- ----------- 143.4/204.2 kB 1.2 MB/s eta 0:00:01\n",
      "     ------------------------------------ - 194.6/204.2 kB 1.2 MB/s eta 0:00:01\n",
      "     -------------------------------------- 204.2/204.2 kB 1.0 MB/s eta 0:00:00\n",
      "Requirement already satisfied: pytz in c:\\users\\randy\\anaconda3\\envs\\ai\\lib\\site-packages (from datetime) (2023.3.post1)\n",
      "Requirement already satisfied: setuptools in c:\\users\\randy\\anaconda3\\envs\\ai\\lib\\site-packages (from zope.interface->datetime) (67.8.0)\n",
      "Installing collected packages: zope.interface, datetime\n",
      "Successfully installed datetime-5.2 zope.interface-6.1\n"
     ]
    }
   ],
   "source": [
    "!pip install mysql-connector-python\n",
    "!pip install datetime"
   ]
  },
  {
   "cell_type": "code",
   "execution_count": 25,
   "metadata": {},
   "outputs": [],
   "source": [
    "import mysql.connector\n",
    "import pandas as pd\n",
    "import mysql.connector\n",
    "from mysql.connector import Error\n",
    "from faker import Faker\n",
    "import random\n",
    "from datetime import datetime"
   ]
  },
  {
   "cell_type": "code",
   "execution_count": 26,
   "metadata": {},
   "outputs": [],
   "source": [
    "# Define connection parameters\n",
    "db_params = {\n",
    "    \"host\": \"localhost\",\n",
    "    \"user\": \"root\",\n",
    "    \"passwd\": \"YOURPASSWORD\",\n",
    "    \"database\": \"new\"\n",
    "}"
   ]
  },
  {
   "cell_type": "code",
   "execution_count": 40,
   "metadata": {},
   "outputs": [],
   "source": [
    "# Inisialisasi generator data palsu\n",
    "fake = Faker()\n",
    "def generate_data_for_null_columns():\n",
    "    return {\n",
    "        'purchase_date': fake.date_between(start_date='-1y', end_date='today'),\n",
    "        'address': fake.address(),\n",
    "        'purchase_amount': round(random.uniform(10, 100), 2),  # angka acak antara 10 hingga 100\n",
    "    }\n"
   ]
  },
  {
   "cell_type": "code",
   "execution_count": 41,
   "metadata": {},
   "outputs": [
    {
     "name": "stdout",
     "output_type": "stream",
     "text": [
      "1 rows were updated.\n",
      "MySQL connection is closed\n"
     ]
    }
   ],
   "source": [
    "try:\n",
    "    # Connect to the MySQL database\n",
    "    db_connection = mysql.connector.connect(**db_params)\n",
    "    cursor = db_connection.cursor()\n",
    "\n",
    "    # Query untuk menemukan baris yang memiliki nilai NULL pada kolom tertentu\n",
    "    cursor.execute(\"SELECT id FROM data_from_sql WHERE purchase_date IS NULL OR address IS NULL OR purchase_amount IS NULL\")\n",
    "    rows_with_null = cursor.fetchall()\n",
    "\n",
    "    # Update setiap baris yang memiliki nilai NULL\n",
    "    for (row_id,) in rows_with_null:\n",
    "        data_to_update = generate_data_for_null_columns()\n",
    "        update_query = \"\"\"\n",
    "        UPDATE data_from_sql\n",
    "        SET purchase_date = %s, address = %s, purchase_amount = %s\n",
    "        WHERE id = %s\n",
    "        \"\"\"\n",
    "        cursor.execute(update_query, (data_to_update['purchase_date'], data_to_update['address'], data_to_update['purchase_amount'], row_id))\n",
    "\n",
    "    # Commit the changes\n",
    "    db_connection.commit()\n",
    "    print(f\"{cursor.rowcount} rows were updated.\")\n",
    "\n",
    "except mysql.connector.Error as error:\n",
    "    print(f\"Error: {error}\")\n",
    "    db_connection.rollback()\n",
    "\n",
    "finally:\n",
    "    # Close the cursor and the connection\n",
    "    if db_connection.is_connected():\n",
    "        cursor.close()\n",
    "        db_connection.close()\n",
    "        print(\"MySQL connection is closed\")"
   ]
  },
  {
   "cell_type": "code",
   "execution_count": 39,
   "metadata": {},
   "outputs": [
    {
     "name": "stdout",
     "output_type": "stream",
     "text": [
      "    id                   name                              email  \\\n",
      "0    1               John Doe               john.doe@example.com   \n",
      "1    2             Jane Smith             jane.smith@example.com   \n",
      "2    3          Alice Johnson          alice.johnson@example.com   \n",
      "3    4          Michael Brown          michael.brown@example.com   \n",
      "4    5            Emily Davis            emily.davis@example.com   \n",
      "5    6          Daniel Garcia          daniel.garcia@example.com   \n",
      "6    7           Laura Wilson           laura.wilson@example.com   \n",
      "7    8         Kevin Martinez         kevin.martinez@example.com   \n",
      "8    9      Isabella Anderson      isabella.anderson@example.com   \n",
      "9   10          Joshua Thomas          joshua.thomas@example.com   \n",
      "10  11             Sophia Lee             sophia.lee@example.com   \n",
      "11  12  Christopher Hernandez  christopher.hernandez@example.com   \n",
      "12  13           Jessica King           jessica.king@example.com   \n",
      "13  14         Matthew Wright         matthew.wright@example.com   \n",
      "14  15            Olivia Hill            olivia.hill@example.com   \n",
      "15  16            Ethan Scott            ethan.scott@example.com   \n",
      "16  17         Madison Torres         madison.torres@example.com   \n",
      "17  18       Alexander Nguyen       alexander.nguyen@example.com   \n",
      "18  19          Abigail Young          abigail.young@example.com   \n",
      "19  20            David Adams            david.adams@example.com   \n",
      "20  21             Siti Khoir                   siti@example.com   \n",
      "\n",
      "   purchase_date address purchase_amount  \n",
      "0           None    None            None  \n",
      "1           None    None            None  \n",
      "2           None    None            None  \n",
      "3           None    None            None  \n",
      "4           None    None            None  \n",
      "5           None    None            None  \n",
      "6           None    None            None  \n",
      "7           None    None            None  \n",
      "8           None    None            None  \n",
      "9           None    None            None  \n",
      "10          None    None            None  \n",
      "11          None    None            None  \n",
      "12          None    None            None  \n",
      "13          None    None            None  \n",
      "14          None    None            None  \n",
      "15          None    None            None  \n",
      "16          None    None            None  \n",
      "17          None    None            None  \n",
      "18          None    None            None  \n",
      "19          None    None            None  \n",
      "20          None    None            None  \n"
     ]
    }
   ],
   "source": [
    "print(df)\n"
   ]
  },
  {
   "cell_type": "code",
   "execution_count": null,
   "metadata": {},
   "outputs": [],
   "source": []
  }
 ],
 "metadata": {
  "kernelspec": {
   "display_name": "ai",
   "language": "python",
   "name": "python3"
  },
  "language_info": {
   "codemirror_mode": {
    "name": "ipython",
    "version": 3
   },
   "file_extension": ".py",
   "mimetype": "text/x-python",
   "name": "python",
   "nbconvert_exporter": "python",
   "pygments_lexer": "ipython3",
   "version": "3.11.3"
  }
 },
 "nbformat": 4,
 "nbformat_minor": 2
}
